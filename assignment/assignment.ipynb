{
  "cells": [
    {
      "cell_type": "markdown",
      "id": "13ad028b-72b7-43ed-aa78-96fd4e518040",
      "metadata": {
        "id": "13ad028b-72b7-43ed-aa78-96fd4e518040"
      },
      "source": [
        "# Assignment: Data Wrangling\n",
        "### `! git clone https://github.com/ds4e/wrangling`\n",
        "### Do Q1 and Q2, and either Q3 or Q4, for a total of 3 questions."
      ]
    },
    {
      "cell_type": "code",
      "execution_count": 4,
      "id": "cfbd1dd6",
      "metadata": {},
      "outputs": [],
      "source": [
        "# imports\n",
        "import pandas as pd\n",
        "import numpy as np\n",
        "import matplotlib.pyplot as plt\n",
        "import pyarrow.parquet as pq"
      ]
    },
    {
      "cell_type": "markdown",
      "id": "985c4220",
      "metadata": {},
      "source": [
        "## Q1"
      ]
    },
    {
      "cell_type": "markdown",
      "id": "da879ea7-8aac-48a3-b6c2-daea56d2e072",
      "metadata": {
        "id": "da879ea7-8aac-48a3-b6c2-daea56d2e072"
      },
      "source": [
        "**Q1.** This question provides some practice cleaning variables which have common problems.\n",
        "1. Numeric variable: For `./data/airbnb_hw.csv`, clean the `Price` variable as well as you can, and explain the choices you make. How many missing values do you end up with? (Hint: What happens to the formatting when a price goes over 999 dollars, say from 675 to 1,112?)\n",
        "2. Categorical variable: For the Minnesota police use of for data, `./data/mn_police_use_of_force.csv`, clean the `subject_injury` variable, handling the NA's; this gives a value `Yes` when a person was injured by police, and `No` when no injury occurred. What proportion of the values are missing? Is this a concern? Cross-tabulate your cleaned `subject_injury` variable with the `force_type` variable. Are there any patterns regarding when the data are missing? \n",
        "3. Dummy variable: For the pretrial data covered in the lecture, clean the `WhetherDefendantWasReleasedPretrial` variable as well as you can, and, in particular, replace missing values with `np.nan`.\n",
        "4. Missing values, not at random: For the pretrial data covered in the lecture, clean the `ImposedSentenceAllChargeInContactEvent` variable as well as you can, and explain the choices you make. (Hint: Look at the `SentenceTypeAllChargesAtConvictionInContactEvent` variable.)"
      ]
    },
    {
      "cell_type": "markdown",
      "id": "0399bb93",
      "metadata": {},
      "source": [
        "### Q1.1"
      ]
    },
    {
      "cell_type": "code",
      "execution_count": 25,
      "id": "91168e74",
      "metadata": {},
      "outputs": [
        {
          "name": "stdout",
          "output_type": "stream",
          "text": [
            "        Host Id Host Since                                Name Neighbourhood   \\\n",
            "0       5162530        NaN     1 Bedroom in Prime Williamsburg       Brooklyn   \n",
            "1      33134899        NaN     Sunny, Private room in Bushwick       Brooklyn   \n",
            "2      39608626        NaN                Sunny Room in Harlem      Manhattan   \n",
            "3           500  6/26/2008  Gorgeous 1 BR with Private Balcony      Manhattan   \n",
            "4           500  6/26/2008            Trendy Times Square Loft      Manhattan   \n",
            "...         ...        ...                                 ...            ...   \n",
            "30473  43022976  8/31/2015   10 Mins to Time Square/two floors         Queens   \n",
            "30474  42993382  8/31/2015       1BR ocean view & F,Q train st       Brooklyn   \n",
            "30475  43033067  8/31/2015                Amazing Private Room       Brooklyn   \n",
            "30476  43000991  8/31/2015   Charming private female room: UWS      Manhattan   \n",
            "30477  42999189  8/31/2015    Huge Beautiful Bedroom - Astoria         Queens   \n",
            "\n",
            "      Property Type  Review Scores Rating (bin)        Room Type  Zipcode  \\\n",
            "0         Apartment                         NaN  Entire home/apt  11249.0   \n",
            "1         Apartment                         NaN     Private room  11206.0   \n",
            "2         Apartment                         NaN     Private room  10032.0   \n",
            "3         Apartment                         NaN  Entire home/apt  10024.0   \n",
            "4         Apartment                        95.0     Private room  10036.0   \n",
            "...             ...                         ...              ...      ...   \n",
            "30473     Apartment                         NaN  Entire home/apt  11101.0   \n",
            "30474     Apartment                         NaN     Private room  11224.0   \n",
            "30475         Other                         NaN     Private room  11206.0   \n",
            "30476     Apartment                         NaN     Private room  10025.0   \n",
            "30477         House                         NaN     Private room  11105.0   \n",
            "\n",
            "       Beds  Number of Records  Number Of Reviews Price  Review Scores Rating  \n",
            "0       1.0                  1                  0   145                   NaN  \n",
            "1       1.0                  1                  1    37                   NaN  \n",
            "2       1.0                  1                  1    28                   NaN  \n",
            "3       3.0                  1                  0   199                   NaN  \n",
            "4       3.0                  1                 39   549                  96.0  \n",
            "...     ...                ...                ...   ...                   ...  \n",
            "30473   5.0                  1                  0   300                   NaN  \n",
            "30474   2.0                  1                  0   125                   NaN  \n",
            "30475   1.0                  1                  0    80                   NaN  \n",
            "30476   1.0                  1                  0    35                   NaN  \n",
            "30477   1.0                  1                  0    80                   NaN  \n",
            "\n",
            "[30478 rows x 13 columns]\n"
          ]
        }
      ],
      "source": [
        "\n",
        "file = \"./data/airbnb_hw.csv\"\n",
        "df = pd.read_csv(file)\n",
        "print(df)"
      ]
    },
    {
      "cell_type": "code",
      "execution_count": 7,
      "id": "00e80c23",
      "metadata": {},
      "outputs": [
        {
          "name": "stdout",
          "output_type": "stream",
          "text": [
            "      Price\n",
            "0       145\n",
            "1        37\n",
            "2        28\n",
            "3       199\n",
            "4       549\n",
            "...     ...\n",
            "30473   300\n",
            "30474   125\n",
            "30475    80\n",
            "30476    35\n",
            "30477    80\n",
            "\n",
            "[30478 rows x 1 columns]\n"
          ]
        }
      ],
      "source": [
        "print(df['Price'])"
      ]
    },
    {
      "cell_type": "code",
      "execution_count": 8,
      "id": "63da0dde",
      "metadata": {},
      "outputs": [
        {
          "data": {
            "text/plain": [
              "Host Id                          0\n",
              "Host Since                       3\n",
              "Name                             0\n",
              "Neighbourhood                    0\n",
              "Property Type                    3\n",
              "Review Scores Rating (bin)    8323\n",
              "Room Type                        0\n",
              "Zipcode                        134\n",
              "Beds                            85\n",
              "Number of Records                0\n",
              "Number Of Reviews                0\n",
              "Price                            0\n",
              "Review Scores Rating          8323\n",
              "dtype: int64"
            ]
          },
          "execution_count": 8,
          "metadata": {},
          "output_type": "execute_result"
        }
      ],
      "source": [
        "df.isnull().sum()\n",
        "# price has all of its values, so I don't have to drop any vals"
      ]
    },
    {
      "cell_type": "code",
      "execution_count": 9,
      "id": "a49ed635",
      "metadata": {},
      "outputs": [
        {
          "data": {
            "text/html": [
              "<div>\n",
              "<style scoped>\n",
              "    .dataframe tbody tr th:only-of-type {\n",
              "        vertical-align: middle;\n",
              "    }\n",
              "\n",
              "    .dataframe tbody tr th {\n",
              "        vertical-align: top;\n",
              "    }\n",
              "\n",
              "    .dataframe thead th {\n",
              "        text-align: right;\n",
              "    }\n",
              "</style>\n",
              "<table border=\"1\" class=\"dataframe\">\n",
              "  <thead>\n",
              "    <tr style=\"text-align: right;\">\n",
              "      <th></th>\n",
              "      <th>Host Id</th>\n",
              "      <th>Review Scores Rating (bin)</th>\n",
              "      <th>Zipcode</th>\n",
              "      <th>Beds</th>\n",
              "      <th>Number of Records</th>\n",
              "      <th>Number Of Reviews</th>\n",
              "      <th>Review Scores Rating</th>\n",
              "    </tr>\n",
              "  </thead>\n",
              "  <tbody>\n",
              "    <tr>\n",
              "      <th>count</th>\n",
              "      <td>3.047800e+04</td>\n",
              "      <td>22155.000000</td>\n",
              "      <td>30344.000000</td>\n",
              "      <td>30393.000000</td>\n",
              "      <td>30478.0</td>\n",
              "      <td>30478.000000</td>\n",
              "      <td>22155.000000</td>\n",
              "    </tr>\n",
              "    <tr>\n",
              "      <th>mean</th>\n",
              "      <td>1.273171e+07</td>\n",
              "      <td>90.738659</td>\n",
              "      <td>10584.854831</td>\n",
              "      <td>1.530089</td>\n",
              "      <td>1.0</td>\n",
              "      <td>12.018735</td>\n",
              "      <td>91.993230</td>\n",
              "    </tr>\n",
              "    <tr>\n",
              "      <th>std</th>\n",
              "      <td>1.190270e+07</td>\n",
              "      <td>9.059519</td>\n",
              "      <td>921.299397</td>\n",
              "      <td>1.015359</td>\n",
              "      <td>0.0</td>\n",
              "      <td>21.980703</td>\n",
              "      <td>8.850373</td>\n",
              "    </tr>\n",
              "    <tr>\n",
              "      <th>min</th>\n",
              "      <td>5.000000e+02</td>\n",
              "      <td>20.000000</td>\n",
              "      <td>1003.000000</td>\n",
              "      <td>0.000000</td>\n",
              "      <td>1.0</td>\n",
              "      <td>0.000000</td>\n",
              "      <td>20.000000</td>\n",
              "    </tr>\n",
              "    <tr>\n",
              "      <th>25%</th>\n",
              "      <td>2.701298e+06</td>\n",
              "      <td>85.000000</td>\n",
              "      <td>10017.000000</td>\n",
              "      <td>1.000000</td>\n",
              "      <td>1.0</td>\n",
              "      <td>0.000000</td>\n",
              "      <td>89.000000</td>\n",
              "    </tr>\n",
              "    <tr>\n",
              "      <th>50%</th>\n",
              "      <td>8.551693e+06</td>\n",
              "      <td>90.000000</td>\n",
              "      <td>10065.000000</td>\n",
              "      <td>1.000000</td>\n",
              "      <td>1.0</td>\n",
              "      <td>3.000000</td>\n",
              "      <td>94.000000</td>\n",
              "    </tr>\n",
              "    <tr>\n",
              "      <th>75%</th>\n",
              "      <td>2.120617e+07</td>\n",
              "      <td>100.000000</td>\n",
              "      <td>11216.000000</td>\n",
              "      <td>2.000000</td>\n",
              "      <td>1.0</td>\n",
              "      <td>13.000000</td>\n",
              "      <td>100.000000</td>\n",
              "    </tr>\n",
              "    <tr>\n",
              "      <th>max</th>\n",
              "      <td>4.303307e+07</td>\n",
              "      <td>100.000000</td>\n",
              "      <td>99135.000000</td>\n",
              "      <td>16.000000</td>\n",
              "      <td>1.0</td>\n",
              "      <td>257.000000</td>\n",
              "      <td>100.000000</td>\n",
              "    </tr>\n",
              "  </tbody>\n",
              "</table>\n",
              "</div>"
            ],
            "text/plain": [
              "            Host Id  Review Scores Rating (bin)       Zipcode          Beds  \\\n",
              "count  3.047800e+04                22155.000000  30344.000000  30393.000000   \n",
              "mean   1.273171e+07                   90.738659  10584.854831      1.530089   \n",
              "std    1.190270e+07                    9.059519    921.299397      1.015359   \n",
              "min    5.000000e+02                   20.000000   1003.000000      0.000000   \n",
              "25%    2.701298e+06                   85.000000  10017.000000      1.000000   \n",
              "50%    8.551693e+06                   90.000000  10065.000000      1.000000   \n",
              "75%    2.120617e+07                  100.000000  11216.000000      2.000000   \n",
              "max    4.303307e+07                  100.000000  99135.000000     16.000000   \n",
              "\n",
              "       Number of Records  Number Of Reviews  Review Scores Rating  \n",
              "count            30478.0       30478.000000          22155.000000  \n",
              "mean                 1.0          12.018735             91.993230  \n",
              "std                  0.0          21.980703              8.850373  \n",
              "min                  1.0           0.000000             20.000000  \n",
              "25%                  1.0           0.000000             89.000000  \n",
              "50%                  1.0           3.000000             94.000000  \n",
              "75%                  1.0          13.000000            100.000000  \n",
              "max                  1.0         257.000000            100.000000  "
            ]
          },
          "execution_count": 9,
          "metadata": {},
          "output_type": "execute_result"
        }
      ],
      "source": [
        "df.describe()\n",
        "# price doesn't show up, which means it is not considered numerical"
      ]
    },
    {
      "cell_type": "code",
      "execution_count": 18,
      "id": "f8300b12",
      "metadata": {},
      "outputs": [
        {
          "name": "stdout",
          "output_type": "stream",
          "text": [
            "        Host Id Host Since                                 Name  \\\n",
            "101        8730  2/27/2009                Comfort & Convenience   \n",
            "263       34915  8/30/2009  Luxurious 2-Floor Manhattan Mansion   \n",
            "764      112879  4/23/2010  Modern Luxury Meets Old Money Charm   \n",
            "1272     214148  8/26/2010     LARGE, COMFY 1BDR W/CHARACTER!!!   \n",
            "1275     213266  8/26/2010   Beautiful 1 Bedroom in Nolita/Soho   \n",
            "...         ...        ...                                  ...   \n",
            "28951  37155810  6/30/2015         Central Park Luxury : 115916   \n",
            "28952  37155810  6/30/2015    Central Park South Place : 112756   \n",
            "28953  37155810  6/30/2015    Central Park South Views : 112754   \n",
            "28985  37241813   7/1/2015    VERY Spacious 3BR in East Village   \n",
            "30281  42160989  8/21/2015         Luxury Duplex for Pope Visit   \n",
            "\n",
            "      Neighbourhood  Property Type  Review Scores Rating (bin)  \\\n",
            "101        Manhattan   Condominium                       100.0   \n",
            "263        Manhattan     Apartment                         NaN   \n",
            "764         Brooklyn     Apartment                         NaN   \n",
            "1272        Brooklyn     Apartment                        90.0   \n",
            "1275       Manhattan     Apartment                        75.0   \n",
            "...              ...           ...                         ...   \n",
            "28951      Manhattan     Apartment                         NaN   \n",
            "28952      Manhattan     Apartment                         NaN   \n",
            "28953      Manhattan     Apartment                         NaN   \n",
            "28985      Manhattan     Apartment                         NaN   \n",
            "30281       Brooklyn     Apartment                         NaN   \n",
            "\n",
            "             Room Type  Zipcode  Beds  Number of Records  Number Of Reviews  \\\n",
            "101    Entire home/apt  10003.0   6.0                  1                  4   \n",
            "263    Entire home/apt  10075.0   2.0                  1                  0   \n",
            "764    Entire home/apt  11206.0   5.0                  1                  0   \n",
            "1272   Entire home/apt  11216.0   1.0                  1                 30   \n",
            "1275   Entire home/apt  10012.0   2.0                  1                  2   \n",
            "...                ...      ...   ...                ...                ...   \n",
            "28951  Entire home/apt  10019.0   2.0                  1                  0   \n",
            "28952  Entire home/apt  10019.0   1.0                  1                  0   \n",
            "28953  Entire home/apt  10019.0   1.0                  1                  0   \n",
            "28985  Entire home/apt  10009.0   3.0                  1                  0   \n",
            "30281  Entire home/apt  11211.0   4.0                  1                  0   \n",
            "\n",
            "       Price  Review Scores Rating  \n",
            "101    1,990                 100.0  \n",
            "263    1,000                   NaN  \n",
            "764    1,200                   NaN  \n",
            "1272   1,000                  92.0  \n",
            "1275   5,000                  76.0  \n",
            "...      ...                   ...  \n",
            "28951  3,390                   NaN  \n",
            "28952  1,356                   NaN  \n",
            "28953  2,599                   NaN  \n",
            "28985  2,000                   NaN  \n",
            "30281  2,000                   NaN  \n",
            "\n",
            "[181 rows x 13 columns]\n"
          ]
        }
      ],
      "source": [
        "commas_price = df[df['Price'].str.contains(',')]\n",
        "print(commas_price)\n",
        "# see if prices have commas"
      ]
    },
    {
      "cell_type": "code",
      "execution_count": 20,
      "id": "c8a05378",
      "metadata": {},
      "outputs": [
        {
          "name": "stderr",
          "output_type": "stream",
          "text": [
            "/tmp/ipykernel_1081722/1623114500.py:1: SettingWithCopyWarning: \n",
            "A value is trying to be set on a copy of a slice from a DataFrame.\n",
            "Try using .loc[row_indexer,col_indexer] = value instead\n",
            "\n",
            "See the caveats in the documentation: https://pandas.pydata.org/pandas-docs/stable/user_guide/indexing.html#returning-a-view-versus-a-copy\n",
            "  commas_price['Price'] = commas_price['Price'].str.replace(',', '').astype(float)\n"
          ]
        }
      ],
      "source": [
        "commas_price['Price'] = commas_price['Price'].str.replace(',', '').astype(float)\n",
        "# isolate them into its own df so I can experiment without corrupting the original df"
      ]
    },
    {
      "cell_type": "code",
      "execution_count": 22,
      "id": "78f3a357",
      "metadata": {},
      "outputs": [
        {
          "name": "stdout",
          "output_type": "stream",
          "text": [
            "101      1990.0\n",
            "263      1000.0\n",
            "764      1200.0\n",
            "1272     1000.0\n",
            "1275     5000.0\n",
            "          ...  \n",
            "28951    3390.0\n",
            "28952    1356.0\n",
            "28953    2599.0\n",
            "28985    2000.0\n",
            "30281    2000.0\n",
            "Name: Price, Length: 181, dtype: float64\n"
          ]
        }
      ],
      "source": [
        "print(commas_price['Price'])\n",
        "# now that I know it works, I will convert the original df"
      ]
    },
    {
      "cell_type": "code",
      "execution_count": 23,
      "id": "16acd08f",
      "metadata": {},
      "outputs": [
        {
          "data": {
            "text/html": [
              "<div>\n",
              "<style scoped>\n",
              "    .dataframe tbody tr th:only-of-type {\n",
              "        vertical-align: middle;\n",
              "    }\n",
              "\n",
              "    .dataframe tbody tr th {\n",
              "        vertical-align: top;\n",
              "    }\n",
              "\n",
              "    .dataframe thead th {\n",
              "        text-align: right;\n",
              "    }\n",
              "</style>\n",
              "<table border=\"1\" class=\"dataframe\">\n",
              "  <thead>\n",
              "    <tr style=\"text-align: right;\">\n",
              "      <th></th>\n",
              "      <th>Host Id</th>\n",
              "      <th>Review Scores Rating (bin)</th>\n",
              "      <th>Zipcode</th>\n",
              "      <th>Beds</th>\n",
              "      <th>Number of Records</th>\n",
              "      <th>Number Of Reviews</th>\n",
              "      <th>Price</th>\n",
              "      <th>Review Scores Rating</th>\n",
              "    </tr>\n",
              "  </thead>\n",
              "  <tbody>\n",
              "    <tr>\n",
              "      <th>count</th>\n",
              "      <td>1.810000e+02</td>\n",
              "      <td>51.000000</td>\n",
              "      <td>181.000000</td>\n",
              "      <td>179.000000</td>\n",
              "      <td>181.0</td>\n",
              "      <td>181.000000</td>\n",
              "      <td>181.000000</td>\n",
              "      <td>51.000000</td>\n",
              "    </tr>\n",
              "    <tr>\n",
              "      <th>mean</th>\n",
              "      <td>1.062796e+07</td>\n",
              "      <td>94.019608</td>\n",
              "      <td>10259.834254</td>\n",
              "      <td>3.346369</td>\n",
              "      <td>1.0</td>\n",
              "      <td>2.740331</td>\n",
              "      <td>1876.408840</td>\n",
              "      <td>94.823529</td>\n",
              "    </tr>\n",
              "    <tr>\n",
              "      <th>std</th>\n",
              "      <td>9.306978e+06</td>\n",
              "      <td>9.900485</td>\n",
              "      <td>474.078504</td>\n",
              "      <td>2.909231</td>\n",
              "      <td>0.0</td>\n",
              "      <td>7.493255</td>\n",
              "      <td>1288.395138</td>\n",
              "      <td>9.764642</td>\n",
              "    </tr>\n",
              "    <tr>\n",
              "      <th>min</th>\n",
              "      <td>8.730000e+03</td>\n",
              "      <td>40.000000</td>\n",
              "      <td>10001.000000</td>\n",
              "      <td>1.000000</td>\n",
              "      <td>1.0</td>\n",
              "      <td>0.000000</td>\n",
              "      <td>1000.000000</td>\n",
              "      <td>40.000000</td>\n",
              "    </tr>\n",
              "    <tr>\n",
              "      <th>25%</th>\n",
              "      <td>2.813178e+06</td>\n",
              "      <td>90.000000</td>\n",
              "      <td>10011.000000</td>\n",
              "      <td>2.000000</td>\n",
              "      <td>1.0</td>\n",
              "      <td>0.000000</td>\n",
              "      <td>1000.000000</td>\n",
              "      <td>93.500000</td>\n",
              "    </tr>\n",
              "    <tr>\n",
              "      <th>50%</th>\n",
              "      <td>1.058152e+07</td>\n",
              "      <td>95.000000</td>\n",
              "      <td>10019.000000</td>\n",
              "      <td>3.000000</td>\n",
              "      <td>1.0</td>\n",
              "      <td>0.000000</td>\n",
              "      <td>1500.000000</td>\n",
              "      <td>98.000000</td>\n",
              "    </tr>\n",
              "    <tr>\n",
              "      <th>75%</th>\n",
              "      <td>1.166865e+07</td>\n",
              "      <td>100.000000</td>\n",
              "      <td>10065.000000</td>\n",
              "      <td>4.000000</td>\n",
              "      <td>1.0</td>\n",
              "      <td>1.000000</td>\n",
              "      <td>2000.000000</td>\n",
              "      <td>100.000000</td>\n",
              "    </tr>\n",
              "    <tr>\n",
              "      <th>max</th>\n",
              "      <td>4.216099e+07</td>\n",
              "      <td>100.000000</td>\n",
              "      <td>11418.000000</td>\n",
              "      <td>16.000000</td>\n",
              "      <td>1.0</td>\n",
              "      <td>48.000000</td>\n",
              "      <td>10000.000000</td>\n",
              "      <td>100.000000</td>\n",
              "    </tr>\n",
              "  </tbody>\n",
              "</table>\n",
              "</div>"
            ],
            "text/plain": [
              "            Host Id  Review Scores Rating (bin)       Zipcode        Beds  \\\n",
              "count  1.810000e+02                   51.000000    181.000000  179.000000   \n",
              "mean   1.062796e+07                   94.019608  10259.834254    3.346369   \n",
              "std    9.306978e+06                    9.900485    474.078504    2.909231   \n",
              "min    8.730000e+03                   40.000000  10001.000000    1.000000   \n",
              "25%    2.813178e+06                   90.000000  10011.000000    2.000000   \n",
              "50%    1.058152e+07                   95.000000  10019.000000    3.000000   \n",
              "75%    1.166865e+07                  100.000000  10065.000000    4.000000   \n",
              "max    4.216099e+07                  100.000000  11418.000000   16.000000   \n",
              "\n",
              "       Number of Records  Number Of Reviews         Price  \\\n",
              "count              181.0         181.000000    181.000000   \n",
              "mean                 1.0           2.740331   1876.408840   \n",
              "std                  0.0           7.493255   1288.395138   \n",
              "min                  1.0           0.000000   1000.000000   \n",
              "25%                  1.0           0.000000   1000.000000   \n",
              "50%                  1.0           0.000000   1500.000000   \n",
              "75%                  1.0           1.000000   2000.000000   \n",
              "max                  1.0          48.000000  10000.000000   \n",
              "\n",
              "       Review Scores Rating  \n",
              "count             51.000000  \n",
              "mean              94.823529  \n",
              "std                9.764642  \n",
              "min               40.000000  \n",
              "25%               93.500000  \n",
              "50%               98.000000  \n",
              "75%              100.000000  \n",
              "max              100.000000  "
            ]
          },
          "execution_count": 23,
          "metadata": {},
          "output_type": "execute_result"
        }
      ],
      "source": [
        "commas_price.describe()\n"
      ]
    },
    {
      "cell_type": "code",
      "execution_count": 24,
      "id": "be78b6d0",
      "metadata": {},
      "outputs": [
        {
          "data": {
            "text/html": [
              "<div>\n",
              "<style scoped>\n",
              "    .dataframe tbody tr th:only-of-type {\n",
              "        vertical-align: middle;\n",
              "    }\n",
              "\n",
              "    .dataframe tbody tr th {\n",
              "        vertical-align: top;\n",
              "    }\n",
              "\n",
              "    .dataframe thead th {\n",
              "        text-align: right;\n",
              "    }\n",
              "</style>\n",
              "<table border=\"1\" class=\"dataframe\">\n",
              "  <thead>\n",
              "    <tr style=\"text-align: right;\">\n",
              "      <th></th>\n",
              "      <th>Host Id</th>\n",
              "      <th>Review Scores Rating (bin)</th>\n",
              "      <th>Zipcode</th>\n",
              "      <th>Beds</th>\n",
              "      <th>Number of Records</th>\n",
              "      <th>Number Of Reviews</th>\n",
              "      <th>Price</th>\n",
              "      <th>Review Scores Rating</th>\n",
              "    </tr>\n",
              "  </thead>\n",
              "  <tbody>\n",
              "    <tr>\n",
              "      <th>count</th>\n",
              "      <td>3.047800e+04</td>\n",
              "      <td>22155.000000</td>\n",
              "      <td>30344.000000</td>\n",
              "      <td>30393.000000</td>\n",
              "      <td>30478.0</td>\n",
              "      <td>30478.000000</td>\n",
              "      <td>30478.000000</td>\n",
              "      <td>22155.000000</td>\n",
              "    </tr>\n",
              "    <tr>\n",
              "      <th>mean</th>\n",
              "      <td>1.273171e+07</td>\n",
              "      <td>90.738659</td>\n",
              "      <td>10584.854831</td>\n",
              "      <td>1.530089</td>\n",
              "      <td>1.0</td>\n",
              "      <td>12.018735</td>\n",
              "      <td>163.589737</td>\n",
              "      <td>91.993230</td>\n",
              "    </tr>\n",
              "    <tr>\n",
              "      <th>std</th>\n",
              "      <td>1.190270e+07</td>\n",
              "      <td>9.059519</td>\n",
              "      <td>921.299397</td>\n",
              "      <td>1.015359</td>\n",
              "      <td>0.0</td>\n",
              "      <td>21.980703</td>\n",
              "      <td>197.785454</td>\n",
              "      <td>8.850373</td>\n",
              "    </tr>\n",
              "    <tr>\n",
              "      <th>min</th>\n",
              "      <td>5.000000e+02</td>\n",
              "      <td>20.000000</td>\n",
              "      <td>1003.000000</td>\n",
              "      <td>0.000000</td>\n",
              "      <td>1.0</td>\n",
              "      <td>0.000000</td>\n",
              "      <td>10.000000</td>\n",
              "      <td>20.000000</td>\n",
              "    </tr>\n",
              "    <tr>\n",
              "      <th>25%</th>\n",
              "      <td>2.701298e+06</td>\n",
              "      <td>85.000000</td>\n",
              "      <td>10017.000000</td>\n",
              "      <td>1.000000</td>\n",
              "      <td>1.0</td>\n",
              "      <td>0.000000</td>\n",
              "      <td>80.000000</td>\n",
              "      <td>89.000000</td>\n",
              "    </tr>\n",
              "    <tr>\n",
              "      <th>50%</th>\n",
              "      <td>8.551693e+06</td>\n",
              "      <td>90.000000</td>\n",
              "      <td>10065.000000</td>\n",
              "      <td>1.000000</td>\n",
              "      <td>1.0</td>\n",
              "      <td>3.000000</td>\n",
              "      <td>125.000000</td>\n",
              "      <td>94.000000</td>\n",
              "    </tr>\n",
              "    <tr>\n",
              "      <th>75%</th>\n",
              "      <td>2.120617e+07</td>\n",
              "      <td>100.000000</td>\n",
              "      <td>11216.000000</td>\n",
              "      <td>2.000000</td>\n",
              "      <td>1.0</td>\n",
              "      <td>13.000000</td>\n",
              "      <td>195.000000</td>\n",
              "      <td>100.000000</td>\n",
              "    </tr>\n",
              "    <tr>\n",
              "      <th>max</th>\n",
              "      <td>4.303307e+07</td>\n",
              "      <td>100.000000</td>\n",
              "      <td>99135.000000</td>\n",
              "      <td>16.000000</td>\n",
              "      <td>1.0</td>\n",
              "      <td>257.000000</td>\n",
              "      <td>10000.000000</td>\n",
              "      <td>100.000000</td>\n",
              "    </tr>\n",
              "  </tbody>\n",
              "</table>\n",
              "</div>"
            ],
            "text/plain": [
              "            Host Id  Review Scores Rating (bin)       Zipcode          Beds  \\\n",
              "count  3.047800e+04                22155.000000  30344.000000  30393.000000   \n",
              "mean   1.273171e+07                   90.738659  10584.854831      1.530089   \n",
              "std    1.190270e+07                    9.059519    921.299397      1.015359   \n",
              "min    5.000000e+02                   20.000000   1003.000000      0.000000   \n",
              "25%    2.701298e+06                   85.000000  10017.000000      1.000000   \n",
              "50%    8.551693e+06                   90.000000  10065.000000      1.000000   \n",
              "75%    2.120617e+07                  100.000000  11216.000000      2.000000   \n",
              "max    4.303307e+07                  100.000000  99135.000000     16.000000   \n",
              "\n",
              "       Number of Records  Number Of Reviews         Price  \\\n",
              "count            30478.0       30478.000000  30478.000000   \n",
              "mean                 1.0          12.018735    163.589737   \n",
              "std                  0.0          21.980703    197.785454   \n",
              "min                  1.0           0.000000     10.000000   \n",
              "25%                  1.0           0.000000     80.000000   \n",
              "50%                  1.0           3.000000    125.000000   \n",
              "75%                  1.0          13.000000    195.000000   \n",
              "max                  1.0         257.000000  10000.000000   \n",
              "\n",
              "       Review Scores Rating  \n",
              "count          22155.000000  \n",
              "mean              91.993230  \n",
              "std                8.850373  \n",
              "min               20.000000  \n",
              "25%               89.000000  \n",
              "50%               94.000000  \n",
              "75%              100.000000  \n",
              "max              100.000000  "
            ]
          },
          "execution_count": 24,
          "metadata": {},
          "output_type": "execute_result"
        }
      ],
      "source": [
        "df['Price'] = df['Price'].str.replace(',', '').astype(float)\n",
        "df.describe()\n",
        "# price shows up now which means price is now a numerical value"
      ]
    },
    {
      "cell_type": "code",
      "execution_count": 26,
      "id": "93378477",
      "metadata": {},
      "outputs": [
        {
          "data": {
            "text/plain": [
              "Host Id                          0\n",
              "Host Since                       3\n",
              "Name                             0\n",
              "Neighbourhood                    0\n",
              "Property Type                    3\n",
              "Review Scores Rating (bin)    8323\n",
              "Room Type                        0\n",
              "Zipcode                        134\n",
              "Beds                            85\n",
              "Number of Records                0\n",
              "Number Of Reviews                0\n",
              "Price                            0\n",
              "Review Scores Rating          8323\n",
              "dtype: int64"
            ]
          },
          "execution_count": 26,
          "metadata": {},
          "output_type": "execute_result"
        }
      ],
      "source": [
        "df.isnull().sum()\n",
        "# still no missing vals for price, which means it was all successfully converted"
      ]
    },
    {
      "cell_type": "markdown",
      "id": "7f05ce8d",
      "metadata": {},
      "source": [
        "### Q1.2"
      ]
    },
    {
      "cell_type": "code",
      "execution_count": 27,
      "id": "e5c8ce03",
      "metadata": {},
      "outputs": [
        {
          "name": "stdout",
          "output_type": "stream",
          "text": [
            "         response_datetime               problem is_911_call primary_offense  \\\n",
            "0      2016/01/01 00:47:36  Assault in Progress          Yes          DASLT1   \n",
            "1      2016/01/01 02:19:34                Fight           No          DISCON   \n",
            "2      2016/01/01 02:19:34                Fight           No          DISCON   \n",
            "3      2016/01/01 02:28:48                Fight           No          PRIORI   \n",
            "4      2016/01/01 02:28:48                Fight           No          PRIORI   \n",
            "...                    ...                   ...         ...             ...   \n",
            "12920  2021/08/30 21:38:46  Assault in Progress          Yes        ASLT5      \n",
            "12921  2021/08/30 22:32:22      Unwanted Person          Yes        CIC        \n",
            "12922  2021/08/31 12:03:08       Overdose w/All          Yes        FORCE      \n",
            "12923  2021/08/31 12:52:52      Attempt Pick-Up           No        WT         \n",
            "12924  2021/08/31 21:34:29      Unwanted Person           No        FORCE      \n",
            "\n",
            "      subject_injury         force_type   force_type_action   race     sex  \\\n",
            "0                NaN       Bodily Force  Body Weight to Pin  Black    Male   \n",
            "1                NaN  Chemical Irritant       Personal Mace  Black  Female   \n",
            "2                NaN  Chemical Irritant       Personal Mace  White  Female   \n",
            "3                NaN  Chemical Irritant  Crowd Control Mace  Black    Male   \n",
            "4                NaN  Chemical Irritant  Crowd Control Mace  Black    Male   \n",
            "...              ...                ...                 ...    ...     ...   \n",
            "12920            NaN       Bodily Force          Joint Lock  White  Female   \n",
            "12921            NaN       Bodily Force          Joint Lock    NaN     NaN   \n",
            "12922            NaN       Bodily Force     Body Weight Pin  Black    Male   \n",
            "12923            NaN       Bodily Force     Body Weight Pin  Black    Male   \n",
            "12924            NaN       Bodily Force           Push Away  White    Male   \n",
            "\n",
            "        age        type_resistance  precinct       neighborhood  \n",
            "0      20.0                 Tensed         1      Downtown East  \n",
            "1      27.0  Verbal Non-Compliance         1      Downtown West  \n",
            "2      23.0  Verbal Non-Compliance         1      Downtown West  \n",
            "3      20.0    Commission of Crime         1      Downtown West  \n",
            "4      20.0    Commission of Crime         1      Downtown West  \n",
            "...     ...                    ...       ...                ...  \n",
            "12920  69.0                    NaN         1        Loring Park  \n",
            "12921   NaN                    NaN         1    Cedar Riverside  \n",
            "12922   NaN                    NaN         3             Seward  \n",
            "12923  31.0                    NaN         4  Camden Industrial  \n",
            "12924   NaN                      X         1         North Loop  \n",
            "\n",
            "[12925 rows x 13 columns]\n"
          ]
        }
      ],
      "source": [
        "file = \"./data/mn_police_use_of_force.csv\"\n",
        "df = pd.read_csv(file)\n",
        "print(df)"
      ]
    },
    {
      "cell_type": "code",
      "execution_count": 28,
      "id": "88346b62",
      "metadata": {},
      "outputs": [
        {
          "data": {
            "text/plain": [
              "response_datetime       0\n",
              "problem                 0\n",
              "is_911_call             0\n",
              "primary_offense         0\n",
              "subject_injury       9848\n",
              "force_type              0\n",
              "force_type_action       0\n",
              "race                 1024\n",
              "sex                   501\n",
              "age                  1066\n",
              "type_resistance      2986\n",
              "precinct                0\n",
              "neighborhood            4\n",
              "dtype: int64"
            ]
          },
          "execution_count": 28,
          "metadata": {},
          "output_type": "execute_result"
        }
      ],
      "source": [
        "df.isnull().sum()\n",
        "# many subject injury missing, 9848 is missing, a non negligible amount"
      ]
    },
    {
      "cell_type": "code",
      "execution_count": 34,
      "id": "c5e41cf8",
      "metadata": {},
      "outputs": [
        {
          "name": "stdout",
          "output_type": "stream",
          "text": [
            "subject_injury            No   Yes\n",
            "force_type                        \n",
            "Baton                      0     2\n",
            "Bodily Force            1093  1286\n",
            "Chemical Irritant        131    41\n",
            "Firearm                    2     0\n",
            "Gun Point Display         33    44\n",
            "Improvised Weapon         34    40\n",
            "Less Lethal Projectile     1     2\n",
            "Police K9 Bite             2    44\n",
            "Taser                    150   172\n"
          ]
        }
      ],
      "source": [
        "cross_tab = pd.crosstab(df[\"force_type\"], df[\"subject_injury\"])\n",
        "print(cross_tab)\n",
        "# can't see Na"
      ]
    },
    {
      "cell_type": "code",
      "execution_count": 33,
      "id": "dd19cb43",
      "metadata": {},
      "outputs": [
        {
          "name": "stdout",
          "output_type": "stream",
          "text": [
            "subject_injury                 No   Yes   NaN\n",
            "force_type                                   \n",
            "Baton                           0     2     2\n",
            "Bodily Force                 1093  1286  7051\n",
            "Chemical Irritant             131    41  1421\n",
            "Firearm                         2     0     0\n",
            "Gun Point Display              33    44    27\n",
            "Improvised Weapon              34    40    74\n",
            "Less Lethal                     0     0    87\n",
            "Less Lethal Projectile          1     2     0\n",
            "Maximal Restraint Technique     0     0   170\n",
            "Police K9 Bite                  2    44    31\n",
            "Taser                         150   172   985\n"
          ]
        }
      ],
      "source": [
        "cross_tab2 = pd.crosstab(df[\"force_type\"], df[\"subject_injury\"], dropna=False)\n",
        "print(cross_tab2)"
      ]
    },
    {
      "cell_type": "markdown",
      "id": "34487d08",
      "metadata": {},
      "source": [
        "When subject injury is null, the force type used is higher for most categories, specifically taser, bodily force, chemical irritant, and maximal restraint technique. It seems like when police used force, they did not want to report whether they injured the suspect so they left it blank."
      ]
    },
    {
      "cell_type": "markdown",
      "id": "9136647e",
      "metadata": {},
      "source": [
        "### Q1.3"
      ]
    },
    {
      "cell_type": "code",
      "execution_count": 24,
      "id": "6a6b4ec8",
      "metadata": {},
      "outputs": [
        {
          "name": "stdout",
          "output_type": "stream",
          "text": [
            "  InternalStudyID REQ_REC# Defendant_Sex Defendant_Race Defendant_BirthYear  \\\n",
            "0        ADI00001        1             M              W                1986   \n",
            "1        ADI00007        3             M              B                1956   \n",
            "2        ADI00008        4             M              W                1990   \n",
            "3        CDI00036        6             M              B                1989   \n",
            "4        CDI00038        7             F              W                1988   \n",
            "\n",
            "  Defendant_Age  Defendant_AgeGroup Defendant_AgeatCurrentArrest  \\\n",
            "0            31                   3                           31   \n",
            "1            60                   6                           60   \n",
            "2            27                   3                           27   \n",
            "3            27                   3                           27   \n",
            "4            28                   3                           28   \n",
            "\n",
            "   Defendant_AttorneyTypeAtCaseClosure  Defendant_IndigencyStatus  ...  \\\n",
            "0                                   99                         99  ...   \n",
            "1                                    9                          9  ...   \n",
            "2                                    9                          9  ...   \n",
            "3                                    0                          0  ...   \n",
            "4                                    0                          0  ...   \n",
            "\n",
            "  NewFelonySexualAssaultArrest_OffDate  \\\n",
            "0                                        \n",
            "1                                        \n",
            "2                                        \n",
            "3                                        \n",
            "4                                        \n",
            "\n",
            "  NewFelonySexualAssaultArrest_ArrestDate  \\\n",
            "0                                           \n",
            "1                                           \n",
            "2                                           \n",
            "3                                           \n",
            "4                                           \n",
            "\n",
            "   NewFelonySexualAssaultArrest_DaysBetweenContactEventandOffDate  \\\n",
            "0                                                                   \n",
            "1                                                                   \n",
            "2                                                                   \n",
            "3                                                                   \n",
            "4                                                                   \n",
            "\n",
            "  NewFelonySexualAssaultArrest_DaysBetweenOffDateandArrestDate  \\\n",
            "0                                                999             \n",
            "1                                                999             \n",
            "2                                                999             \n",
            "3                                                999             \n",
            "4                                                999             \n",
            "\n",
            "   NewFelonySexualAssaultArrest_DaysBetweenReleaseDateandOffDate  \\\n",
            "0                                                999               \n",
            "1                                                999               \n",
            "2                                                999               \n",
            "3                                                999               \n",
            "4                                                999               \n",
            "\n",
            "   NewFelonySexualAssaultArrest_Disposition  \\\n",
            "0                                             \n",
            "1                                             \n",
            "2                                             \n",
            "3                                             \n",
            "4                                             \n",
            "\n",
            "   Intertnalindicator_ReasonforExcludingFromFollowUpAnalysis  \\\n",
            "0                                                  4           \n",
            "1                                                  5           \n",
            "2                                                  5           \n",
            "3                                                  5           \n",
            "4                                                  0           \n",
            "\n",
            "   CriminalHistoryRecordsReturnedorCMSRecordsFoundforIndividual  \\\n",
            "0                                                  1              \n",
            "1                                                  1              \n",
            "2                                                  1              \n",
            "3                                                  1              \n",
            "4                                                  1              \n",
            "\n",
            "  DispRecordFoundforChargesinOct2017Contact_Atleast1dispfound  \\\n",
            "0                                                  0            \n",
            "1                                                  1            \n",
            "2                                                  1            \n",
            "3                                                  1            \n",
            "4                                                  1            \n",
            "\n",
            "   CrimeCommission2021ReportClassificationofDefendants  \n",
            "0  Defendant could not be classified or tracked d...    \n",
            "1  Defendant Detained Entire Pre-Trial Period_Und...    \n",
            "2  Defendant Detained Entire Pre-Trial Period_Und...    \n",
            "3  Defendant Detained Entire Pre-Trial Period_Und...    \n",
            "4  New criminal offense punishable by incarcerati...    \n",
            "\n",
            "[5 rows x 709 columns]\n"
          ]
        }
      ],
      "source": [
        "\n",
        "table = pq.read_table(\"data/justice_data.parquet\")\n",
        "\n",
        "df = table.to_pandas()\n",
        "print(df.head())"
      ]
    },
    {
      "cell_type": "code",
      "execution_count": 13,
      "id": "cf8c7b46",
      "metadata": {},
      "outputs": [
        {
          "name": "stdout",
          "output_type": "stream",
          "text": [
            "[9 0 1]\n"
          ]
        }
      ],
      "source": [
        "print(df[\"WhetherDefendantWasReleasedPretrial\"].unique())"
      ]
    },
    {
      "cell_type": "code",
      "execution_count": 21,
      "id": "f0637aef",
      "metadata": {},
      "outputs": [
        {
          "name": "stdout",
          "output_type": "stream",
          "text": [
            "WhetherDefendantWasReleasedPretrial\n",
            "Yes    19154\n",
            "No      3801\n",
            "NaN       31\n",
            "Name: count, dtype: int64\n"
          ]
        }
      ],
      "source": [
        "df[\"WhetherDefendantWasReleasedPretrial\"] = df[\"WhetherDefendantWasReleasedPretrial\"].map(\n",
        "    {1: \"Yes\", 0: \"No\"}\n",
        ")\n",
        "df[\"WhetherDefendantWasReleasedPretrial\"] = df[\"WhetherDefendantWasReleasedPretrial\"].replace({None: np.nan})\n",
        "print(df[\"WhetherDefendantWasReleasedPretrial\"].value_counts(dropna=False))"
      ]
    },
    {
      "cell_type": "code",
      "execution_count": 25,
      "id": "baae8a89",
      "metadata": {},
      "outputs": [
        {
          "name": "stdout",
          "output_type": "stream",
          "text": [
            "[' ' '60' '12' '.985626283367556' '36' '6' '24' '5.91375770020534' '120'\n",
            " '72' '11.9917864476386' '0' '2.95687885010267' '84' '108' '300' '240'\n",
            " '180' '4' '96' '2' '54' '.328542094455852' '44' '5' '115' '132' '48'\n",
            " '258' '34' '76' '.164271047227926' '.131416837782341' '111' '9' '3'\n",
            " '1.97125256673511' '36.9856262833676' '.0657084188911704'\n",
            " '35.4928131416838' '106.492813141684' '8' '35' '18.3141683778234' '480'\n",
            " '32' '93' '234' '732' '1.16427104722793' '4.6570841889117' '21' '7'\n",
            " '4.49281314168378' '18' '600' '43.1642710472279' '179' '52' '30' '20'\n",
            " '192' '702' '14' '55' '53' '11.9055441478439' '114' '35.0061601642711'\n",
            " '68' '.657084188911704' '46.6242299794661' '102' '65' '200' '57'\n",
            " '24.3285420944559' '12.1642710472279' '117' '81.4928131416838'\n",
            " '22.4928131416838' '1980' '3.6570841889117' '56' '10' '2.79260780287474'\n",
            " '1' '47' '22' '1500' '40' '284' '11' '118' '42' '162' '156'\n",
            " '47.2956878850103' '105' '51' '246' '29' '75' '324' '360'\n",
            " '34.4804928131417' '120.328542094456' '59.9260780287474' '66'\n",
            " '59.9917864476386' '660' '51.1642710472279' '14.9568788501027'\n",
            " '3.98562628336756' '78' '228' '1.47843942505133' '62' '4.8' '86' '168'\n",
            " '23' '33' '48.0328542094456' '720' '348' '1200' '27' '49' '87' '420' '63'\n",
            " '79.9260780287474' '57.0349075975359' '49.9712525667351'\n",
            " '59.4928131416838' '17' '238.492813141684' '60.9856262833676' '126' '45'\n",
            " '158' '216' '227' '42.9568788501027' '445' '70.952772073922' '516'\n",
            " '177.82135523614' '1752' '90' '1080' '141' '4.82956878850103' '230' '31'\n",
            " '2208' '52.5133470225873' '69' '26' '33.4928131416838' '140' '131' '344'\n",
            " '219' '101' '71' '59' '58' '120.197125256674' '67' '35.4004106776181'\n",
            " '3.28542094455852' '40.1642710472279' '91' '1.7741273100616' '155'\n",
            " '34.4928131416838' '81' '92.3285420944559' '3.5482546201232' '207' '74'\n",
            " '518' '28' '8.95687885010267' '237' '404.673511293634' '18.1642710472279'\n",
            " '10.7433264887064' '551' '39' '15' '124' '43' '176' '19.4928131416838'\n",
            " '482' '129' '88' '46' '45.8542094455852' '128.628336755647'\n",
            " '136.492813141684' '108.328542094456' '50' '363.663244353183' '288' '250'\n",
            " '107' '81.0225872689938' '444' '205' '10.6570841889117' '19'\n",
            " '66.9856262833676' '38.4928131416838' '264' '276' '173' '222' '144' '294'\n",
            " '336' '431' '450' '73' '99.3285420944559' '128' '30.8069815195072'\n",
            " '31.5256673511294' '127' '202' '55.3285420944559' '89' '242'\n",
            " '1.31416837782341' '1029' '.788501026694045' '194.858316221766' '399'\n",
            " '39.6570841889117' '56.95687885' '198' '120.985626283368'\n",
            " '47.6570841889117' '148' '6.8993839835729' '65.3285420944559'\n",
            " '5.95277207392197' '.0985626283367557' '3.32854209445585'\n",
            " '3.94250513347023' '12.9856262833676' '6.98562628336756'\n",
            " '13.1498973305955' '15.1642710472279' '17.1971252566735'\n",
            " '17.9137577002053' '104' '212' '24.6570841889117' '72.6570841889117'\n",
            " '2.98562628336756' '144.985626283368' '31.9712525667351' '183'\n",
            " '4.98562628336756' '11.8213552361396' '252' '12.394250513347'\n",
            " '42.4928131416838' '10.1642710472279' '11.1642710472279'\n",
            " '5.49281314168378' '59.6632443531827' '12.3285420944559'\n",
            " '48.9856262833676' '240.985626283368' '2.6570841889117' '540'\n",
            " '2.97125256673511' '6.32854209445585' '23.6632443531828'\n",
            " '133.657084188912' '35.3285420944559' '456' '103' '1.72279260780287'\n",
            " '12.6570841889117' '11.6570841889117' '60.3285420944559'\n",
            " '3.78850102669405' '576' '2.13141683778234' '492' '14.9856262833676'\n",
            " '24.9856262833676' '61.9712525667351' '5.6570841889117' '16'\n",
            " '42.1642710472279' '.492813141683778' '138' '13.3141683778234'\n",
            " '11.8932238193018' '5.32854209445585' '95' '62.6570841889117'\n",
            " '3.08829568788501' '11.8275154004107' '1.64271047227926'\n",
            " '47.9917864476386' '4.27104722792608' '8.32854209445585'\n",
            " '3.31416837782341' '70' '77' '1.09856262833676' '48.1642710472279'\n",
            " '27.4928131416838' '6.93839835728953' '1011' '.68993839835729'\n",
            " '1.1170431211499' '1.49281314168378' '4.16427104722793'\n",
            " '1.19712525667351' '4.07392197125257' '188' '11.3285420944559'\n",
            " '.0328542094455852' '432' '11.952772073922' '36.4928131416838'\n",
            " '23.9835728952772' '9.98562628336756' '98' '36.3285420944559' '112'\n",
            " '.394250513347023' '13' '.262833675564682' '13.7987679671458'\n",
            " '5.8870636550308' '354' '5.91991786447639' '24.1642710472279'\n",
            " '62.95687885' '4.59958932238193' '123' '2.32854209445585'\n",
            " '23.9240246406571' '204' '197' '174' '16.1498973305955' '840' '440'\n",
            " '98.95687885' '17.952772073922' '63.9425051334702' '60.1314168377823'\n",
            " '12.1314168377823' '172.952772073922' '.197125256673511'\n",
            " '138.164271047228' '4.92813141683778' '.919917864476386'\n",
            " '18.9856262833676' '6.6570841889117' '2.85420944558522'\n",
            " '8.91375770020534' '146' '12.4928131416838' '.558521560574949'\n",
            " '.722792607802875' '5.82135523613963' '84.9856262833676'\n",
            " '6.16427104722793' '15.9856262833676' '64.5585215605749'\n",
            " '38.299794661191' '11.958932238193' '3.1211498973306' '126.328542094456'\n",
            " '5.16427104722793' '64' '42.6570841889117' '312' '19.9712525667351'\n",
            " '82.3285420944559' '23.9712525667351' '17.6242299794661'\n",
            " '121.971252566735' '59.6550308008214' '1.32854209445585'\n",
            " '7.97125256673511' '1.91991786447639' '.525667351129363'\n",
            " '9.32854209445585' '42.9856262833676' '41.9137577002053'\n",
            " '72.9856262833676' '12.4784394250513' '5.19096509240246' '473'\n",
            " '16.6570841889117' '109' '86.3285420944559' '41' '1.90554414784394'\n",
            " '94.1642710472279' '302' '4.39425051334702' '10.8213552361396'\n",
            " '18.3285420944559' '154' '83' '110.956878850103' '226' '96.0328542094456'\n",
            " '4.82135523613963' '30.3285420944559' '37.9712525667351'\n",
            " '50.4640657084189' '286' '99' '99.4928131416838' '2.6611909650924'\n",
            " '70.9712525667351' '13.9712525667351' '23.6570841889117'\n",
            " '.459958932238193' '132.492813141684' '283' '49.3141683778234'\n",
            " '27.9856262833676' '38' '7.6570841889117' '83.6550308008214'\n",
            " '10.9199178644764' '162.328542094456' '37' '132.328542094456'\n",
            " '35.952772073922' '165' '10.9856262833676' '20.1642710472279'\n",
            " '2.59137577002053' '175' '180.985626283368' '10.3285420944559'\n",
            " '36.1642710472279' '120.657084188912' '232' '152' '8.98562628336756'\n",
            " '167' '11.0657084188912' '11.2032854209446' '5.19712525667351'\n",
            " '3.16427104722793' '60.1642710472279' '1.18275154004107'\n",
            " '21.1642710472279' '2.19712525667351' '4.19712525667351'\n",
            " '2.62833675564682' '119.952772073922' '119.958932238193'\n",
            " '9.49281314168378' '5.25667351129363' '15.3285420944559'\n",
            " '2.82135523613963' '192.985626283368' '48.6570841889117'\n",
            " '5.95687885010267' '2.29979466119097' '960' '2.36550308008214' '116'\n",
            " '19.5133470225873' '1.6570841889117']\n"
          ]
        }
      ],
      "source": [
        "print(df[\"ImposedSentenceAllChargeInContactEvent\"].unique())\n",
        "#length of sentence\n"
      ]
    },
    {
      "cell_type": "code",
      "execution_count": 26,
      "id": "0ba2b97a",
      "metadata": {},
      "outputs": [
        {
          "name": "stdout",
          "output_type": "stream",
          "text": [
            "[9 0 1 4 2]\n"
          ]
        }
      ],
      "source": [
        "print(df[\"SentenceTypeAllChargesAtConvictionInContactEvent\"].unique())\n",
        "#Probation/no incarceration 0\n",
        "# Jail up to 12 months 1\n",
        "# Prison (one year or more) 2\n",
        "# Other, all charges in cohort contact resulted in pending, dismissed,\n",
        "# deferred, etc. 4\n",
        "# Not applicable (e.g., disposition record not found, or unknown) 9"
      ]
    },
    {
      "cell_type": "code",
      "execution_count": 23,
      "id": "27d6e755",
      "metadata": {},
      "outputs": [
        {
          "name": "stdout",
          "output_type": "stream",
          "text": [
            "0\n"
          ]
        }
      ],
      "source": [
        "print(df[\"ImposedSentenceAllChargeInContactEvent\"].isna().sum())"
      ]
    },
    {
      "cell_type": "code",
      "execution_count": 27,
      "id": "0c7613e1",
      "metadata": {},
      "outputs": [
        {
          "name": "stdout",
          "output_type": "stream",
          "text": [
            "9053\n"
          ]
        }
      ],
      "source": [
        "df[\"ImposedSentenceAllChargeInContactEvent\"] = df[\"ImposedSentenceAllChargeInContactEvent\"].replace({\"\": np.nan, \" \": np.nan})\n",
        "print(df[\"ImposedSentenceAllChargeInContactEvent\"].isna().sum())"
      ]
    },
    {
      "cell_type": "markdown",
      "id": "1e38e898",
      "metadata": {},
      "source": [
        "I didn't see any Nan values, but upon closer inspection there are empty spaces. I decided to take that and replace it with np.nan, now there are 9053 np.nan values."
      ]
    },
    {
      "cell_type": "markdown",
      "id": "33db9f15",
      "metadata": {},
      "source": [
        "## Q2"
      ]
    },
    {
      "cell_type": "markdown",
      "id": "5a60a44e",
      "metadata": {},
      "source": [
        "**Q2.** Go to https://sharkattackfile.net/ and download their dataset on shark attacks.\n",
        "\n",
        "1. Open the shark attack file using Pandas. It is probably not a csv file, so `read_csv` won't work.\n",
        "2. Drop any columns that do not contain data.\n",
        "3. Clean the year variable. Describe the range of values you see. Filter the rows to focus on attacks since 1940. Are attacks increasing, decreasing, or remaining constant over time?\n",
        "4. Clean the Age variable and make a histogram of the ages of the victims.\n",
        "5. What proportion of victims are male?\n",
        "6. Clean the `Type` variable so it only takes three values: Provoked and Unprovoked and Unknown. What proportion of attacks are unprovoked?\n",
        "7. Clean the `Fatal Y/N` variable so it only takes three values: Y, N, and Unknown.\n",
        "8. Are sharks more likely to launch unprovoked attacks on men or women? Is the attack more or less likely to be fatal when the attack is provoked or unprovoked? Is it more or less likely to be fatal when the victim is male or female? How do you feel about sharks?\n",
        "9. What proportion of attacks appear to be by white sharks? (Hint: `str.split()` makes a vector of text values into a list of lists, split by spaces.)"
      ]
    },
    {
      "cell_type": "markdown",
      "id": "21202ba0",
      "metadata": {},
      "source": [
        "### Q2.1"
      ]
    },
    {
      "cell_type": "code",
      "execution_count": 55,
      "id": "b60f2797",
      "metadata": {},
      "outputs": [
        {
          "name": "stdout",
          "output_type": "stream",
          "text": [
            "                     Date    Year        Type             Country  \\\n",
            "0     2025-01-23 00:00:00  2025.0  Unprovoked           Australia   \n",
            "1     2025-01-22 00:00:00  2025.0  Unprovoked           Australia   \n",
            "2     2025-01-11 00:00:00  2025.0    Provoked                 USA   \n",
            "3     2025-01-02 00:00:00  2025.0  Unprovoked       New Caledonia   \n",
            "4     2025-01-02 00:00:00  2025.0  Unprovoked           Australia   \n",
            "...                   ...     ...         ...                 ...   \n",
            "6987          Before 1903     0.0  Unprovoked           AUSTRALIA   \n",
            "6988          Before 1903     0.0  Unprovoked           AUSTRALIA   \n",
            "6989            1900-1905     0.0  Unprovoked                 USA   \n",
            "6990            1883-1889     0.0  Unprovoked              PANAMA   \n",
            "6991            1845-1853     0.0  Unprovoked  CEYLON (SRI LANKA)   \n",
            "\n",
            "                  State                                 Location  \\\n",
            "0     Western Australia                           Shipwreck Cove   \n",
            "1     Western Australia                           Cheynes beach    \n",
            "2                Hawaii            Off Haleiwa Boat Harbour Oahu   \n",
            "3          Grande Terre              Islet of Kendek near Koumac   \n",
            "4       South Australia  Granites Beach near Westall Streaky Bay   \n",
            "...                 ...                                      ...   \n",
            "6987  Western Australia                              Roebuck Bay   \n",
            "6988  Western Australia                                      NaN   \n",
            "6989     North Carolina                           Ocracoke Inlet   \n",
            "6990                NaN                     Panama Bay 8ºN, 79ºW   \n",
            "6991   Eastern Province      Below the English fort, Trincomalee   \n",
            "\n",
            "          Activity                                    Name Sex  Age  ...  \\\n",
            "0          Bathing                                    Boy    M   12  ...   \n",
            "1          Surfing                             Dale Kittow   M   37  ...   \n",
            "2           Diving  Male not stated was a dive tour worker   M   23  ...   \n",
            "3     Spearfishing                        Robert Cuewapuru   M   40  ...   \n",
            "4          Surfing                           Lance Appleby   M   28  ...   \n",
            "...            ...                                     ...  ..  ...  ...   \n",
            "6987        Diving                                    male   M  NaN  ...   \n",
            "6988  Pearl diving                                   Ahmun   M  NaN  ...   \n",
            "6989      Swimming                   Coast Guard personnel   M  NaN  ...   \n",
            "6990           NaN                         Jules Patterson   M  NaN  ...   \n",
            "6991      Swimming                                    male   M   15  ...   \n",
            "\n",
            "                                    Species   \\\n",
            "0                                 Not stated   \n",
            "1                              Bronze whaler   \n",
            "2                                 Not stated   \n",
            "3             Reportedly Tiger or Bull shark   \n",
            "4     Great White Shart estimated 4.8m 16 ft   \n",
            "...                                      ...   \n",
            "6987                                     NaN   \n",
            "6988                                     NaN   \n",
            "6989                                     NaN   \n",
            "6990                                     NaN   \n",
            "6991                                     NaN   \n",
            "\n",
            "                                                 Source  \\\n",
            "0                                        Bob Myatt GSAF   \n",
            "1                                        Bob Myatt GSAF   \n",
            "2                     Kevin McMurray Trackingsharks.com   \n",
            "3                         Johannes Marchand Todd Smith    \n",
            "4     Glen Folkard: Simon De Marchi News.com.au: The...   \n",
            "...                                                 ...   \n",
            "6987                   H. Taunton; N. Bartlett,  p. 234   \n",
            "6988              H. Taunton; N. Bartlett,  pp. 233-234   \n",
            "6989               F. Schwartz, p.23; C. Creswell, GSAF   \n",
            "6990                                The Sun, 10/20/1938   \n",
            "6991                                         S.W. Baker   \n",
            "\n",
            "                                 pdf  \\\n",
            "0                                NaN   \n",
            "1                                NaN   \n",
            "2                                NaN   \n",
            "3                                NaN   \n",
            "4                                NaN   \n",
            "...                              ...   \n",
            "6987          ND-0005-RoebuckBay.pdf   \n",
            "6988               ND-0004-Ahmun.pdf   \n",
            "6989  ND-0003-Ocracoke_1900-1905.pdf   \n",
            "6990      ND-0002-JulesPatterson.pdf   \n",
            "6991              ND-0001-Ceylon.pdf   \n",
            "\n",
            "                                           href formula  \\\n",
            "0                                                   NaN   \n",
            "1                                                   NaN   \n",
            "2                                                   NaN   \n",
            "3                                                   NaN   \n",
            "4                                                   NaN   \n",
            "...                                                 ...   \n",
            "6987  http://sharkattackfile.net/spreadsheets/pdf_di...   \n",
            "6988  http://sharkattackfile.net/spreadsheets/pdf_di...   \n",
            "6989  http://sharkattackfile.net/spreadsheets/pdf_di...   \n",
            "6990  http://sharkattackfile.net/spreadsheets/pdf_di...   \n",
            "6991  http://sharkattackfile.net/spreadsheets/pdf_di...   \n",
            "\n",
            "                                                   href Case Number  \\\n",
            "0                                                   NaN         NaN   \n",
            "1                                                   NaN         NaN   \n",
            "2                                                   NaN         NaN   \n",
            "3                                                   NaN         NaN   \n",
            "4                                                   NaN         NaN   \n",
            "...                                                 ...         ...   \n",
            "6987  http://sharkattackfile.net/spreadsheets/pdf_di...     ND.0005   \n",
            "6988  http://sharkattackfile.net/spreadsheets/pdf_di...     ND.0004   \n",
            "6989  http://sharkattackfile.net/spreadsheets/pdf_di...     ND.0003   \n",
            "6990  http://sharkattackfile.net/spreadsheets/pdf_di...     ND.0002   \n",
            "6991  http://sharkattackfile.net/spreadsheets/pdf_di...     ND.0001   \n",
            "\n",
            "     Case Number.1 original order Unnamed: 21 Unnamed: 22  \n",
            "0              NaN            NaN         NaN         NaN  \n",
            "1              NaN            NaN         NaN         NaN  \n",
            "2              NaN            NaN         NaN         NaN  \n",
            "3              NaN            NaN         NaN         NaN  \n",
            "4              NaN            NaN         NaN         NaN  \n",
            "...            ...            ...         ...         ...  \n",
            "6987       ND.0005            6.0         NaN         NaN  \n",
            "6988       ND.0004            5.0         NaN         NaN  \n",
            "6989       ND.0003            4.0         NaN         NaN  \n",
            "6990       ND.0002            3.0         NaN         NaN  \n",
            "6991       ND.0001            2.0         NaN         NaN  \n",
            "\n",
            "[6992 rows x 23 columns]\n"
          ]
        }
      ],
      "source": [
        "df = pd.read_excel('GSAF5.xls')\n",
        "print(df)"
      ]
    },
    {
      "cell_type": "markdown",
      "id": "18bdf835",
      "metadata": {},
      "source": [
        "### Q2.2"
      ]
    },
    {
      "cell_type": "code",
      "execution_count": null,
      "id": "9444f470",
      "metadata": {},
      "outputs": [],
      "source": [
        "df.isnull().sum()"
      ]
    },
    {
      "cell_type": "code",
      "execution_count": 10,
      "id": "40114e8a",
      "metadata": {},
      "outputs": [
        {
          "name": "stdout",
          "output_type": "stream",
          "text": [
            "                     Date    Year        Type             Country  \\\n",
            "0     2025-01-23 00:00:00  2025.0  Unprovoked           Australia   \n",
            "1     2025-01-22 00:00:00  2025.0  Unprovoked           Australia   \n",
            "2     2025-01-11 00:00:00  2025.0    Provoked                 USA   \n",
            "3     2025-01-02 00:00:00  2025.0  Unprovoked       New Caledonia   \n",
            "4     2025-01-02 00:00:00  2025.0  Unprovoked           Australia   \n",
            "...                   ...     ...         ...                 ...   \n",
            "6987          Before 1903     0.0  Unprovoked           AUSTRALIA   \n",
            "6988          Before 1903     0.0  Unprovoked           AUSTRALIA   \n",
            "6989            1900-1905     0.0  Unprovoked                 USA   \n",
            "6990            1883-1889     0.0  Unprovoked              PANAMA   \n",
            "6991            1845-1853     0.0  Unprovoked  CEYLON (SRI LANKA)   \n",
            "\n",
            "                  State                                 Location  \\\n",
            "0     Western Australia                           Shipwreck Cove   \n",
            "1     Western Australia                           Cheynes beach    \n",
            "2                Hawaii            Off Haleiwa Boat Harbour Oahu   \n",
            "3          Grande Terre              Islet of Kendek near Koumac   \n",
            "4       South Australia  Granites Beach near Westall Streaky Bay   \n",
            "...                 ...                                      ...   \n",
            "6987  Western Australia                              Roebuck Bay   \n",
            "6988  Western Australia                                      NaN   \n",
            "6989     North Carolina                           Ocracoke Inlet   \n",
            "6990                NaN                     Panama Bay 8ºN, 79ºW   \n",
            "6991   Eastern Province      Below the English fort, Trincomalee   \n",
            "\n",
            "          Activity                                    Name Sex  Age  ...  \\\n",
            "0          Bathing                                    Boy    M   12  ...   \n",
            "1          Surfing                             Dale Kittow   M   37  ...   \n",
            "2           Diving  Male not stated was a dive tour worker   M   23  ...   \n",
            "3     Spearfishing                        Robert Cuewapuru   M   40  ...   \n",
            "4          Surfing                           Lance Appleby   M   28  ...   \n",
            "...            ...                                     ...  ..  ...  ...   \n",
            "6987        Diving                                    male   M  NaN  ...   \n",
            "6988  Pearl diving                                   Ahmun   M  NaN  ...   \n",
            "6989      Swimming                   Coast Guard personnel   M  NaN  ...   \n",
            "6990           NaN                         Jules Patterson   M  NaN  ...   \n",
            "6991      Swimming                                    male   M   15  ...   \n",
            "\n",
            "                                    Species   \\\n",
            "0                                 Not stated   \n",
            "1                              Bronze whaler   \n",
            "2                                 Not stated   \n",
            "3             Reportedly Tiger or Bull shark   \n",
            "4     Great White Shart estimated 4.8m 16 ft   \n",
            "...                                      ...   \n",
            "6987                                     NaN   \n",
            "6988                                     NaN   \n",
            "6989                                     NaN   \n",
            "6990                                     NaN   \n",
            "6991                                     NaN   \n",
            "\n",
            "                                                 Source  \\\n",
            "0                                        Bob Myatt GSAF   \n",
            "1                                        Bob Myatt GSAF   \n",
            "2                     Kevin McMurray Trackingsharks.com   \n",
            "3                         Johannes Marchand Todd Smith    \n",
            "4     Glen Folkard: Simon De Marchi News.com.au: The...   \n",
            "...                                                 ...   \n",
            "6987                   H. Taunton; N. Bartlett,  p. 234   \n",
            "6988              H. Taunton; N. Bartlett,  pp. 233-234   \n",
            "6989               F. Schwartz, p.23; C. Creswell, GSAF   \n",
            "6990                                The Sun, 10/20/1938   \n",
            "6991                                         S.W. Baker   \n",
            "\n",
            "                                 pdf  \\\n",
            "0                                NaN   \n",
            "1                                NaN   \n",
            "2                                NaN   \n",
            "3                                NaN   \n",
            "4                                NaN   \n",
            "...                              ...   \n",
            "6987          ND-0005-RoebuckBay.pdf   \n",
            "6988               ND-0004-Ahmun.pdf   \n",
            "6989  ND-0003-Ocracoke_1900-1905.pdf   \n",
            "6990      ND-0002-JulesPatterson.pdf   \n",
            "6991              ND-0001-Ceylon.pdf   \n",
            "\n",
            "                                           href formula  \\\n",
            "0                                                   NaN   \n",
            "1                                                   NaN   \n",
            "2                                                   NaN   \n",
            "3                                                   NaN   \n",
            "4                                                   NaN   \n",
            "...                                                 ...   \n",
            "6987  http://sharkattackfile.net/spreadsheets/pdf_di...   \n",
            "6988  http://sharkattackfile.net/spreadsheets/pdf_di...   \n",
            "6989  http://sharkattackfile.net/spreadsheets/pdf_di...   \n",
            "6990  http://sharkattackfile.net/spreadsheets/pdf_di...   \n",
            "6991  http://sharkattackfile.net/spreadsheets/pdf_di...   \n",
            "\n",
            "                                                   href Case Number  \\\n",
            "0                                                   NaN         NaN   \n",
            "1                                                   NaN         NaN   \n",
            "2                                                   NaN         NaN   \n",
            "3                                                   NaN         NaN   \n",
            "4                                                   NaN         NaN   \n",
            "...                                                 ...         ...   \n",
            "6987  http://sharkattackfile.net/spreadsheets/pdf_di...     ND.0005   \n",
            "6988  http://sharkattackfile.net/spreadsheets/pdf_di...     ND.0004   \n",
            "6989  http://sharkattackfile.net/spreadsheets/pdf_di...     ND.0003   \n",
            "6990  http://sharkattackfile.net/spreadsheets/pdf_di...     ND.0002   \n",
            "6991  http://sharkattackfile.net/spreadsheets/pdf_di...     ND.0001   \n",
            "\n",
            "     Case Number.1 original order Unnamed: 21 Unnamed: 22  \n",
            "0              NaN            NaN         NaN         NaN  \n",
            "1              NaN            NaN         NaN         NaN  \n",
            "2              NaN            NaN         NaN         NaN  \n",
            "3              NaN            NaN         NaN         NaN  \n",
            "4              NaN            NaN         NaN         NaN  \n",
            "...            ...            ...         ...         ...  \n",
            "6987       ND.0005            6.0         NaN         NaN  \n",
            "6988       ND.0004            5.0         NaN         NaN  \n",
            "6989       ND.0003            4.0         NaN         NaN  \n",
            "6990       ND.0002            3.0         NaN         NaN  \n",
            "6991       ND.0001            2.0         NaN         NaN  \n",
            "\n",
            "[6992 rows x 23 columns]\n"
          ]
        }
      ],
      "source": [
        "df.replace(r'', np.nan)#if empty string, regard it as null\n",
        "df = df.dropna(axis=1, how='all')\n",
        "print(df)\n",
        "# drop if how=all, which means everythign is nan\n",
        "# df = df.dropna(thresh=1, aixs=1) might be useful, drop column if a single nan in data"
      ]
    },
    {
      "cell_type": "code",
      "execution_count": 11,
      "id": "3013d865",
      "metadata": {},
      "outputs": [
        {
          "data": {
            "text/plain": [
              "Date                 0\n",
              "Year                 2\n",
              "Type                18\n",
              "Country             50\n",
              "State              482\n",
              "Location           565\n",
              "Activity           585\n",
              "Name               219\n",
              "Sex                579\n",
              "Age               2994\n",
              "Injury              35\n",
              "Fatal Y/N          561\n",
              "Time              3526\n",
              "Species           3132\n",
              "Source              19\n",
              "pdf                193\n",
              "href formula       198\n",
              "href               196\n",
              "Case Number        194\n",
              "Case Number.1      195\n",
              "original order     193\n",
              "Unnamed: 21       6991\n",
              "Unnamed: 22       6990\n",
              "dtype: int64"
            ]
          },
          "execution_count": 11,
          "metadata": {},
          "output_type": "execute_result"
        }
      ],
      "source": [
        "df.isnull().sum()\n",
        "# nothign was dropped"
      ]
    },
    {
      "cell_type": "markdown",
      "id": "bb2775d6",
      "metadata": {},
      "source": [
        "### Q2.3"
      ]
    },
    {
      "cell_type": "code",
      "execution_count": 56,
      "id": "71fd3923",
      "metadata": {},
      "outputs": [
        {
          "data": {
            "text/plain": [
              "Year\n",
              "2015.0    143\n",
              "2017.0    140\n",
              "2016.0    131\n",
              "0.0       129\n",
              "2011.0    128\n",
              "         ... \n",
              "1785.0      1\n",
              "1783.0      1\n",
              "1000.0      1\n",
              "77.0        1\n",
              "5.0         1\n",
              "Name: count, Length: 261, dtype: int64"
            ]
          },
          "execution_count": 56,
          "metadata": {},
          "output_type": "execute_result"
        }
      ],
      "source": [
        "df[\"Year\"].value_counts()"
      ]
    },
    {
      "cell_type": "code",
      "execution_count": 15,
      "id": "d1c8d101",
      "metadata": {},
      "outputs": [
        {
          "data": {
            "text/plain": [
              "0       2025.0\n",
              "1       2025.0\n",
              "2       2025.0\n",
              "3       2025.0\n",
              "4       2025.0\n",
              "         ...  \n",
              "6987       NaN\n",
              "6988       NaN\n",
              "6989       NaN\n",
              "6990       NaN\n",
              "6991       NaN\n",
              "Name: Year, Length: 6992, dtype: float64"
            ]
          },
          "execution_count": 15,
          "metadata": {},
          "output_type": "execute_result"
        }
      ],
      "source": [
        "df['Year'].replace(0.0, np.nan)\n",
        "# if 0.0 year, replace with NaN"
      ]
    },
    {
      "cell_type": "code",
      "execution_count": 16,
      "id": "12d12b3f",
      "metadata": {},
      "outputs": [
        {
          "data": {
            "text/plain": [
              "count    6990.000000\n",
              "mean     1935.018598\n",
              "std       272.082794\n",
              "min         0.000000\n",
              "25%      1947.000000\n",
              "50%      1986.000000\n",
              "75%      2009.000000\n",
              "max      2026.000000\n",
              "Name: Year, dtype: float64"
            ]
          },
          "execution_count": 16,
          "metadata": {},
          "output_type": "execute_result"
        }
      ],
      "source": [
        "df['Year'].describe()"
      ]
    },
    {
      "cell_type": "code",
      "execution_count": 8,
      "id": "0a29449e",
      "metadata": {},
      "outputs": [
        {
          "name": "stdout",
          "output_type": "stream",
          "text": [
            "Trend: mixed\n"
          ]
        }
      ],
      "source": [
        "df_filtered = df[df[\"Year\"] >= 1940]\n",
        "year_counts = df_filtered[\"Year\"].value_counts().sort_index()\n",
        "\n",
        "year_counts_diff = year_counts.diff()\n",
        "\n",
        "if year_counts_diff.dropna().gt(0).all():\n",
        "    trend = \"increasing\"\n",
        "elif year_counts_diff.dropna().lt(0).all():\n",
        "    trend = \"decreasing\"\n",
        "elif year_counts_diff.dropna().eq(0).all():\n",
        "    trend = \"constant\"\n",
        "else:\n",
        "    trend = \"mixed\"\n",
        "\n",
        "print(f\"Trend: {trend}\")\n"
      ]
    },
    {
      "cell_type": "code",
      "execution_count": 10,
      "id": "f214bae0",
      "metadata": {},
      "outputs": [
        {
          "data": {
            "image/png": "[encoded data removed]",
            "text/plain": [
              "<Figure size 640x480 with 1 Axes>"
            ]
          },
          "metadata": {},
          "output_type": "display_data"
        }
      ],
      "source": [
        "\n",
        "plt.plot(year_counts.index, year_counts.values, marker=\"o\", linestyle=\"-\")\n",
        "plt.xlabel(\"Year\")\n",
        "plt.ylabel(\"Number of Attacks\")\n",
        "plt.title(\"Number of Attacks Per Year Since 1940\")\n",
        "plt.show()\n"
      ]
    },
    {
      "cell_type": "markdown",
      "id": "46beb5e2",
      "metadata": {},
      "source": [
        "The attacks seem to be increasing with a spike in 1960s and a huge spike in the 2010s, but in recent years its been low"
      ]
    },
    {
      "cell_type": "markdown",
      "id": "9b626e5f",
      "metadata": {},
      "source": [
        "### Q2.4"
      ]
    },
    {
      "cell_type": "code",
      "execution_count": 58,
      "id": "5c97d432",
      "metadata": {},
      "outputs": [
        {
          "data": {
            "text/plain": [
              "Age\n",
              "17.0    175\n",
              "20.0    167\n",
              "18.0    162\n",
              "15.0    157\n",
              "19.0    152\n",
              "       ... \n",
              "72.0      1\n",
              "84.0      1\n",
              "86.0      1\n",
              "87.0      1\n",
              "81.0      1\n",
              "Name: count, Length: 82, dtype: int64"
            ]
          },
          "execution_count": 58,
          "metadata": {},
          "output_type": "execute_result"
        }
      ],
      "source": [
        "df[\"Age\"].value_counts()"
      ]
    },
    {
      "cell_type": "code",
      "execution_count": 57,
      "id": "78452b7e",
      "metadata": {},
      "outputs": [
        {
          "data": {
            "image/png": "[encoded data removed]",
            "text/plain": [
              "<Figure size 640x480 with 1 Axes>"
            ]
          },
          "metadata": {},
          "output_type": "display_data"
        }
      ],
      "source": [
        "df[\"Age\"] = df[\"Age\"].astype(str).str.extract(r\"(\\d+)\") \n",
        "\n",
        "\n",
        "df[\"Age\"] = pd.to_numeric(df[\"Age\"], errors=\"coerce\")\n",
        "\n",
        "df_cleaned = df.dropna(subset=[\"Age\"])\n",
        "\n",
        "plt.hist(df_cleaned[\"Age\"], bins=20, edgecolor=\"black\")\n",
        "plt.xlabel(\"Age\")\n",
        "plt.ylabel(\"Number of Victims\")\n",
        "plt.title(\"Distribution of Victims' Ages in Shark Attacks\")\n",
        "plt.show()\n"
      ]
    },
    {
      "cell_type": "markdown",
      "id": "a0418da9",
      "metadata": {},
      "source": [
        "### Q2.5"
      ]
    },
    {
      "cell_type": "code",
      "execution_count": 59,
      "id": "60cca0d7",
      "metadata": {},
      "outputs": [
        {
          "data": {
            "text/plain": [
              "Sex\n",
              "M        5613\n",
              "F         792\n",
              "M           2\n",
              "N           2\n",
              " M          1\n",
              "lli         1\n",
              "M x 2       1\n",
              ".           1\n",
              "Name: count, dtype: int64"
            ]
          },
          "execution_count": 59,
          "metadata": {},
          "output_type": "execute_result"
        }
      ],
      "source": [
        "df[\"Sex\"].value_counts()"
      ]
    },
    {
      "cell_type": "code",
      "execution_count": 60,
      "id": "129f13d7",
      "metadata": {},
      "outputs": [
        {
          "data": {
            "text/plain": [
              "Sex\n",
              "M    5616\n",
              "F     792\n",
              "Name: count, dtype: int64"
            ]
          },
          "execution_count": 60,
          "metadata": {},
          "output_type": "execute_result"
        }
      ],
      "source": [
        "df[\"Sex\"] = df[\"Sex\"].astype(str).str.replace(\" \", \"\", regex=True)\n",
        "\n",
        "df[\"Sex\"] = df[\"Sex\"].apply(lambda x: x if x in [\"M\", \"F\"] else np.nan)\n",
        "df[\"Sex\"].value_counts()"
      ]
    },
    {
      "cell_type": "code",
      "execution_count": 61,
      "id": "a0d2bb16",
      "metadata": {},
      "outputs": [
        {
          "name": "stdout",
          "output_type": "stream",
          "text": [
            "Proportion of male victims: 87.64%\n"
          ]
        }
      ],
      "source": [
        "\n",
        "male_count = (df[\"Sex\"] == \"M\").sum()\n",
        "female_count = (df[\"Sex\"] == \"F\").sum()\n",
        "\n",
        "total_known_sex = male_count + female_count\n",
        "male_proportion = male_count / total_known_sex if total_known_sex > 0 else 0\n",
        "\n",
        "print(f\"Proportion of male victims: {male_proportion:.2%}\")\n"
      ]
    },
    {
      "cell_type": "markdown",
      "id": "32b44b27",
      "metadata": {},
      "source": [
        "### Q2.6"
      ]
    },
    {
      "cell_type": "code",
      "execution_count": 62,
      "id": "2b45a147",
      "metadata": {},
      "outputs": [
        {
          "data": {
            "text/plain": [
              "Type\n",
              "Unprovoked             5153\n",
              "Provoked                637\n",
              "Invalid                 552\n",
              "Watercraft              355\n",
              "Sea Disaster            242\n",
              "Questionable             22\n",
              "Boat                      7\n",
              " Provoked                 2\n",
              "Unconfirmed               1\n",
              "?                         1\n",
              "Unverified                1\n",
              "Under investigation       1\n",
              "Name: count, dtype: int64"
            ]
          },
          "execution_count": 62,
          "metadata": {},
          "output_type": "execute_result"
        }
      ],
      "source": [
        "df[\"Type\"].value_counts()"
      ]
    },
    {
      "cell_type": "code",
      "execution_count": 63,
      "id": "2ff91258",
      "metadata": {},
      "outputs": [
        {
          "data": {
            "text/plain": [
              "Type\n",
              "Unprovoked    5153\n",
              "Unknown       1200\n",
              "Provoked       639\n",
              "Name: count, dtype: int64"
            ]
          },
          "execution_count": 63,
          "metadata": {},
          "output_type": "execute_result"
        }
      ],
      "source": [
        "df[\"Type\"] = df[\"Type\"].astype(str).str.replace(\" \", \"\", regex=True)\n",
        "df[\"Type\"] = df[\"Type\"].apply(lambda x: x if x in [\"Unprovoked\", \"Provoked\"] else \"Unknown\")\n",
        "df[\"Type\"].value_counts()"
      ]
    },
    {
      "cell_type": "markdown",
      "id": "4ce027dd",
      "metadata": {},
      "source": [
        "### Q2.7"
      ]
    },
    {
      "cell_type": "code",
      "execution_count": 64,
      "id": "c55ee9b0",
      "metadata": {},
      "outputs": [],
      "source": [
        "# ttoo repetitive\n",
        "def clean_column(df, column_name):\n",
        "    df[column_name] = (\n",
        "        df[column_name]\n",
        "        .astype(str)              \n",
        "        .str.strip()               \n",
        "        .str.replace(r\"\\s+\", \" \", regex=True)  \n",
        "        .str.lower()              \n",
        "        .str.capitalize()            # Capitalize first letter\n",
        "    )\n",
        "    return df\n"
      ]
    },
    {
      "cell_type": "code",
      "execution_count": 65,
      "id": "db0a1f6c",
      "metadata": {},
      "outputs": [
        {
          "data": {
            "text/plain": [
              "Fatal Y/N\n",
              "N          4872\n",
              "Y          1468\n",
              "UNKNOWN      71\n",
              " N            7\n",
              "F             4\n",
              "M             3\n",
              "Nq            1\n",
              "n             1\n",
              "2017          1\n",
              "Y x 2         1\n",
              "N             1\n",
              "y             1\n",
              "Name: count, dtype: int64"
            ]
          },
          "execution_count": 65,
          "metadata": {},
          "output_type": "execute_result"
        }
      ],
      "source": [
        "df[\"Fatal Y/N\"].value_counts()\n"
      ]
    },
    {
      "cell_type": "code",
      "execution_count": 66,
      "id": "415fa43e",
      "metadata": {},
      "outputs": [
        {
          "data": {
            "text/plain": [
              "Fatal Y/N\n",
              "N          4881\n",
              "Y          1469\n",
              "Unknown     642\n",
              "Name: count, dtype: int64"
            ]
          },
          "execution_count": 66,
          "metadata": {},
          "output_type": "execute_result"
        }
      ],
      "source": [
        "df = clean_column(df, \"Fatal Y/N\")\n",
        "df[\"Fatal Y/N\"] = df[\"Fatal Y/N\"].apply(lambda x: x if x in [\"Y\", \"N\"] else \"Unknown\")\n",
        "df[\"Fatal Y/N\"].value_counts()"
      ]
    },
    {
      "cell_type": "markdown",
      "id": "ed43e19e",
      "metadata": {},
      "source": [
        "### Q2.8"
      ]
    },
    {
      "cell_type": "code",
      "execution_count": 67,
      "id": "0d62ec87",
      "metadata": {},
      "outputs": [
        {
          "name": "stdout",
          "output_type": "stream",
          "text": [
            "Sex\n",
            "M    4314\n",
            "F     670\n",
            "Name: count, dtype: int64\n"
          ]
        }
      ],
      "source": [
        "unprovoked_df = df[df[\"Type\"] == \"Unprovoked\"]\n",
        "unprovoked_gender = unprovoked_df[\"Sex\"].value_counts()\n",
        "print(unprovoked_gender)\n"
      ]
    },
    {
      "cell_type": "code",
      "execution_count": 71,
      "id": "88113adf",
      "metadata": {},
      "outputs": [
        {
          "name": "stdout",
          "output_type": "stream",
          "text": [
            "Type        Fatal Y/N\n",
            "Provoked    N            0.953052\n",
            "            Y            0.032864\n",
            "            Unknown      0.014085\n",
            "Unknown     Unknown      0.462500\n",
            "            N            0.374167\n",
            "            Y            0.163333\n",
            "Unprovoked  N            0.741898\n",
            "            Y            0.242965\n",
            "            Unknown      0.015137\n",
            "Name: proportion, dtype: float64\n"
          ]
        }
      ],
      "source": [
        "fatality_by_type = df.groupby(\"Type\")[\"Fatal Y/N\"].value_counts(normalize=True)\n",
        "print(fatality_by_type)\n"
      ]
    },
    {
      "cell_type": "code",
      "execution_count": 72,
      "id": "60f9e9a7",
      "metadata": {},
      "outputs": [
        {
          "name": "stdout",
          "output_type": "stream",
          "text": [
            "Sex  Fatal Y/N\n",
            "F    N            0.760101\n",
            "     Y            0.151515\n",
            "     Unknown      0.088384\n",
            "M    N            0.697472\n",
            "     Y            0.220798\n",
            "     Unknown      0.081731\n",
            "Name: proportion, dtype: float64\n"
          ]
        }
      ],
      "source": [
        "fatality_by_sex = df.groupby(\"Sex\")[\"Fatal Y/N\"].value_counts(normalize=True)\n",
        "print(fatality_by_sex)"
      ]
    },
    {
      "cell_type": "markdown",
      "id": "2ecb6bc8",
      "metadata": {},
      "source": [
        "Men are attacked unprovoked more than women, but men are also attacked more often than women in general. It seems to be more fatal if a shark attack is unprovoked, I would guess it is due to the element of surprise. Men seem to die more when attacked by a shark compared to women. I would say my opinion of shark attacks haven't changed. I am not really worried about shark attacks, because I don't swim out far and I also don't go if there is a warning."
      ]
    },
    {
      "cell_type": "markdown",
      "id": "b34f90ce",
      "metadata": {},
      "source": [
        "### Q2.9"
      ]
    },
    {
      "cell_type": "code",
      "execution_count": 74,
      "id": "424b0d6f",
      "metadata": {},
      "outputs": [
        {
          "data": {
            "text/plain": [
              "Species \n",
              "White shark                                                                                                                                                                                194\n",
              "Shark involvement prior to death was not confirmed                                                                                                                                         105\n",
              "Invalid                                                                                                                                                                                    102\n",
              "Shark involvement not confirmed                                                                                                                                                             92\n",
              "Tiger shark                                                                                                                                                                                 89\n",
              "                                                                                                                                                                                          ... \n",
              "18\" to 36\" shark                                                                                                                                                                             1\n",
              "Mr. Burgess of ISAF announced the injury was the bite of a 1.8 m [6'], 2- to 3-year old white shark. Subsequent investigation revealed there was  no shark involvement in this incident      1\n",
              "Unknown, but it was reported that a shark tooth was recovered from the wound                                                                                                                 1\n",
              "On 8/13/2005 anglers from New Zealand caught a 2.8 m [9'3\"], 140-kg [309-lb] shark at the same spot. It was believed this was the same shark that killed Alysha                              1\n",
              "2.5 m [8.25'] bull shark                                                                                                                                                                     1\n",
              "Name: count, Length: 1706, dtype: int64"
            ]
          },
          "execution_count": 74,
          "metadata": {},
          "output_type": "execute_result"
        }
      ],
      "source": [
        "df[\"Species \"].value_counts()"
      ]
    },
    {
      "cell_type": "code",
      "execution_count": 75,
      "id": "e8f5015a",
      "metadata": {},
      "outputs": [
        {
          "data": {
            "text/plain": [
              "Species \n",
              "Nan                                                   3132\n",
              "White shark                                            196\n",
              "Shark involvement prior to death was not confirmed     105\n",
              "Invalid                                                102\n",
              "Shark involvement not confirmed                         94\n",
              "                                                      ... \n",
              "Bronze whaler shark, 2 m to 3 m [6.75' to 10']           1\n",
              "1.8 m [6'] caribbean reef shark                          1\n",
              "Nurse shark, 3'                                          1\n",
              "Bronze whaler shark, 4.3 m [14']                         1\n",
              "Thought to involve a 2.5 m bull or tiger shark           1\n",
              "Name: count, Length: 1563, dtype: int64"
            ]
          },
          "execution_count": 75,
          "metadata": {},
          "output_type": "execute_result"
        }
      ],
      "source": [
        "df = clean_column(df, \"Species \")\n",
        "df[\"Species \"].value_counts()"
      ]
    },
    {
      "cell_type": "code",
      "execution_count": 76,
      "id": "78c1d024",
      "metadata": {},
      "outputs": [
        {
          "name": "stdout",
          "output_type": "stream",
          "text": [
            "Proportion of attacks by white sharks: 3.49%\n"
          ]
        }
      ],
      "source": [
        "\n",
        "# Check if \"white\" and \"shark\" appear in the species information\n",
        "df[\"is_white_shark\"] = df[\"Species \"].apply(lambda x: \"white\" in x and \"shark\" in x)\n",
        "\n",
        "# Calculate the proportion of attacks involving white sharks\n",
        "white_shark_proportion = df[\"is_white_shark\"].mean()\n",
        "\n",
        "print(f\"Proportion of attacks by white sharks: {white_shark_proportion:.2%}\")\n"
      ]
    },
    {
      "cell_type": "markdown",
      "id": "4b88c217",
      "metadata": {},
      "source": [
        "## Q4"
      ]
    },
    {
      "cell_type": "markdown",
      "id": "649494cd-cfd6-4f80-992a-9994fc19e1d5",
      "metadata": {
        "id": "649494cd-cfd6-4f80-992a-9994fc19e1d5"
      },
      "source": [
        "**Q4.** Many important datasets contain a race variable, typically limited to a handful of values often including Black, White, Asian, Latino, and Indigenous. This question looks at data gathering efforts on this variable by the U.S. Federal government.\n",
        "\n",
        "1. How did the most recent US Census gather data on race?\n",
        "2. Why do we gather these data? What role do these kinds of data play in politics and society? Why does data quality matter?\n",
        "3. Please provide a constructive criticism of how the Census was conducted: What was done well? What do you think was missing? How should future large scale surveys be adjusted to best reflect the diversity of the population? Could some of the Census' good practices be adopted more widely to gather richer and more useful data?\n",
        "4. How did the Census gather data on sex and gender? Please provide a similar constructive criticism of their practices.\n",
        "5. When it comes to cleaning data, what concerns do you have about protected characteristics like sex, gender, sexual identity, or race? What challenges can you imagine arising when there are missing values? What good or bad practices might people adopt, and why?\n",
        "6. Suppose someone invented an algorithm to impute values for protected characteristics like race, gender, sex, or sexuality. What kinds of concerns would you have?"
      ]
    },
    {
      "cell_type": "markdown",
      "id": "9a8eea9a",
      "metadata": {},
      "source": []
    }
  ],
  "metadata": {
    "colab": {
      "provenance": []
    },
    "kernelspec": {
      "display_name": "Python 3",
      "language": "python",
      "name": "python3"
    },
    "language_info": {
      "codemirror_mode": {
        "name": "ipython",
        "version": 3
      },
      "file_extension": ".py",
      "mimetype": "text/x-python",
      "name": "python",
      "nbconvert_exporter": "python",
      "pygments_lexer": "ipython3",
      "version": "3.10.12"
    }
  },
  "nbformat": 4,
  "nbformat_minor": 5
}
